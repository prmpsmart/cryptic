{
 "cells": [
  {
   "cell_type": "code",
   "execution_count": 2,
   "metadata": {},
   "outputs": [],
   "source": [
    "from client import *\n",
    "\n",
    "client = CrypticClient(log_level=logging.DEBUG)\n",
    "client.URI = \"ws://localhost:8000\"\n",
    "CrypticClient.DATA.DB_FILE = 'test/test.db'\n",
    "\n",
    "client.add_receiver('text', print)\n",
    "client.add_receiver('signin', print)\n",
    "client.add_receiver('signup', print)\n",
    "client.add_receiver('add_recipient', print)\n",
    "client.add_receiver('validate_recipients', print)\n"
   ]
  },
  {
   "cell_type": "code",
   "execution_count": 3,
   "metadata": {},
   "outputs": [
    {
     "name": "stderr",
     "output_type": "stream",
     "text": [
      "INFO:wschat.prmp_websockets: Connected to Server\n"
     ]
    },
    {
     "name": "stdout",
     "output_type": "stream",
     "text": [
      "{'action': 'signin', 'id': 'prmp', 'avatar': '', 'response': 'Logged In'}\n",
      "{'action': 'validate_recipients', 'validations': [['mimi', True]]}\n",
      "{'action': 'validate_recipients', 'validations': [['mimi', False]]}\n",
      "{'action': 'validate_recipients', 'validations': [['mimi', True]]}\n",
      "{'action': 'validate_recipients', 'validations': [['mimi', False]]}\n",
      "{'action': 'validate_recipients', 'validations': [['mimi', True]]}\n",
      "{'action': 'validate_recipients', 'validations': [['mimi', False]]}\n",
      "{'action': 'validate_recipients', 'validations': [['mimi', True]]}\n",
      "{'action': 'validate_recipients', 'validations': [['mimi', False]]}\n",
      "{'action': 'validate_recipients', 'validations': [['mimi', True]]}\n",
      "{'action': 'validate_recipients', 'validations': [['mimi', False]]}\n",
      "{'action': 'validate_recipients', 'validations': [['mimi', True]]}\n",
      "{'action': 'validate_recipients', 'validations': [['mimi', False]]}\n",
      "{'action': 'validate_recipients', 'validations': [['mimi', True]]}\n",
      "{'action': 'validate_recipients', 'validations': [['mimi', False]]}\n"
     ]
    }
   ],
   "source": [
    "# Start Client\n",
    "client.start_client()"
   ]
  },
  {
   "cell_type": "code",
   "execution_count": 3,
   "metadata": {},
   "outputs": [],
   "source": [
    "# Sign In\n",
    "if not client.signed_in:\n",
    "    client.signin('prmp', 'prmp')"
   ]
  },
  {
   "cell_type": "code",
   "execution_count": 3,
   "metadata": {},
   "outputs": [],
   "source": [
    "# Text\n",
    "json = Json(id='prmp', recipient='mimi', text='Apata Miracle')\n",
    "client.text(json)"
   ]
  },
  {
   "cell_type": "code",
   "execution_count": 3,
   "metadata": {},
   "outputs": [
    {
     "name": "stdout",
     "output_type": "stream",
     "text": [
      "{'action': 'add_recipient', 'id': 'mimi', 'avatar': '', 'response': 'Added Successfully'}\n"
     ]
    }
   ],
   "source": [
    "# Add Recipient\n",
    "client.add_recipient('mimi')"
   ]
  },
  {
   "cell_type": "code",
   "execution_count": 3,
   "metadata": {},
   "outputs": [
    {
     "name": "stderr",
     "output_type": "stream",
     "text": [
      "INFO:wschat.prmp_websockets: Disconnected from Server\n"
     ]
    },
    {
     "name": "stdout",
     "output_type": "stream",
     "text": [
      "{'mimi': <client.Recipient object at 0x000001E993346D60>}\n",
      "True\n"
     ]
    },
    {
     "name": "stderr",
     "output_type": "stream",
     "text": [
      "DEBUG:wschat.prmp_websockets:'NoneType' object has no attribute 'send'\n"
     ]
    }
   ],
   "source": [
    "print(client.DATA.USER.recipients)\n",
    "print(client.signed_in)\n",
    "client.close('Closing')"
   ]
  }
 ],
 "metadata": {
  "interpreter": {
   "hash": "920ecc5b8ec2df78ba0c48141ee4db972ceb4f1697dfecd7da7c28cf367be3f7"
  },
  "kernelspec": {
   "display_name": "Python 3.9.2 64-bit",
   "name": "python3"
  },
  "language_info": {
   "codemirror_mode": {
    "name": "ipython",
    "version": 3
   },
   "file_extension": ".py",
   "mimetype": "text/x-python",
   "name": "python",
   "nbconvert_exporter": "python",
   "pygments_lexer": "ipython3",
   "version": "3.9.2"
  },
  "orig_nbformat": 4
 },
 "nbformat": 4,
 "nbformat_minor": 2
}
