{
 "cells": [
  {
   "cell_type": "code",
   "execution_count": 1,
   "metadata": {},
   "outputs": [],
   "source": [
    "from client import *\n",
    "\n",
    "client = CrypticClient(log_level=logging.DEBUG)\n",
    "client.URI = \"ws://localhost:8000\"\n",
    "CrypticClient.DATA.DB_FILE = \"test/test.db\"\n",
    "\n",
    "client.add_receiver(\"text\", print)\n",
    "client.add_receiver(\"signin\", print)\n",
    "client.add_receiver(\"signup\", print)\n",
    "client.add_receiver(\"add_recipient\", print)\n",
    "client.add_receiver(\"validate_recipients\", print)"
   ]
  },
  {
   "cell_type": "code",
   "execution_count": 7,
   "metadata": {},
   "outputs": [
    {
     "name": "stderr",
     "output_type": "stream",
     "text": [
      "INFO:wschat.prmp_websockets: Connected to Server\n"
     ]
    }
   ],
   "source": [
    "# Start Client\n",
    "client.start_client()"
   ]
  },
  {
   "cell_type": "code",
   "execution_count": 8,
   "metadata": {},
   "outputs": [],
   "source": [
    "# Sign Up\n",
    "client.signup(\"prmp\", \"prmp\")"
   ]
  },
  {
   "cell_type": "code",
   "execution_count": 9,
   "metadata": {},
   "outputs": [
    {
     "name": "stderr",
     "output_type": "stream",
     "text": [
      "INFO:wschat.prmp_websockets: Disconnected from Server\n"
     ]
    }
   ],
   "source": [
    "# Sign In\n",
    "if not client.signed_in:\n",
    "    client.signin(\"prmp\", \"prmp\")"
   ]
  },
  {
   "cell_type": "code",
   "execution_count": 5,
   "metadata": {},
   "outputs": [
    {
     "name": "stdout",
     "output_type": "stream",
     "text": [
      "{'action': 'text', 'recipient': 'mimi', 'id': 'prmp', 'sent': True, 'time': 1675453163}\n"
     ]
    },
    {
     "name": "stderr",
     "output_type": "stream",
     "text": [
      "DEBUG:wschat.prmp_websockets:[WinError 10054] An existing connection was forcibly closed by the remote host\n",
      "INFO:wschat.prmp_websockets: Disconnected from Server\n",
      "DEBUG:wschat.prmp_websockets:remote socket closed\n"
     ]
    }
   ],
   "source": [
    "# Text\n",
    "time = TIME()\n",
    "json = Json(id=\"prmp\", recipient=\"mimi\", text=f\"J Sam Sam\", time=time)\n",
    "client.text(json)\n",
    "\n",
    "client.edit_profile(new_id=\"prmpl\", id=\"prmp\")"
   ]
  },
  {
   "cell_type": "code",
   "execution_count": 5,
   "metadata": {},
   "outputs": [],
   "source": [
    "# Add Recipient\n",
    "client.add_recipient(\"mimi\")"
   ]
  },
  {
   "cell_type": "code",
   "execution_count": 6,
   "metadata": {},
   "outputs": [
    {
     "name": "stderr",
     "output_type": "stream",
     "text": [
      "INFO:wschat.prmp_websockets: Disconnected from Server\n"
     ]
    },
    {
     "name": "stdout",
     "output_type": "stream",
     "text": [
      "{'mimi': <client.Recipient object at 0x00000272EDE05B50>}\n",
      "False\n"
     ]
    },
    {
     "name": "stderr",
     "output_type": "stream",
     "text": [
      "DEBUG:wschat.prmp_websockets:'NoneType' object has no attribute 'send'\n"
     ]
    }
   ],
   "source": [
    "print(client.DATA.USER.recipients)\n",
    "print(client.signed_in)\n",
    "client.close(\"Closing\")"
   ]
  }
 ],
 "metadata": {
  "interpreter": {
   "hash": "920ecc5b8ec2df78ba0c48141ee4db972ceb4f1697dfecd7da7c28cf367be3f7"
  },
  "kernelspec": {
   "display_name": "Python 3.9.2 64-bit",
   "name": "python3"
  },
  "language_info": {
   "codemirror_mode": {
    "name": "ipython",
    "version": 3
   },
   "file_extension": ".py",
   "mimetype": "text/x-python",
   "name": "python",
   "nbconvert_exporter": "python",
   "pygments_lexer": "ipython3",
   "version": "3.11.5"
  },
  "orig_nbformat": 4
 },
 "nbformat": 4,
 "nbformat_minor": 2
}
